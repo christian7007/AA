{
 "cells": [
  {
   "cell_type": "code",
   "execution_count": 2,
   "metadata": {
    "collapsed": true
   },
   "outputs": [],
   "source": [
    "import pandas as pd\n",
    "import numpy as np\n",
    "import scipy.io as io\n",
    "from sklearn.model_selection import train_test_split"
   ]
  },
  {
   "cell_type": "code",
   "execution_count": 3,
   "metadata": {
    "collapsed": true
   },
   "outputs": [],
   "source": [
    "features_names =  [\"age\", \"workclass\", \"fnlwgt\", \"education\", \"education-num\", \"marital-status\", \"occupation\", \"relationship\", \"race\", \"sex\", \"capital-gain\", \"capital-loss\", \"hours-per-week\", \"native-country\"]\n",
    "data1 = pd.read_csv(r\"adult.csv\", header=None, names=features_names + [\"target\"])"
   ]
  },
  {
   "cell_type": "code",
   "execution_count": 4,
   "metadata": {
    "collapsed": true
   },
   "outputs": [],
   "source": [
    "del data1[\"fnlwgt\"]\n",
    "del data1[\"education\"]"
   ]
  },
  {
   "cell_type": "code",
   "execution_count": 5,
   "metadata": {
    "collapsed": true
   },
   "outputs": [],
   "source": [
    "def columnToNumber(item):\n",
    "    pos = np.where(unique == item)\n",
    "    if pos : return pos[0][0]\n",
    "    else : return 0"
   ]
  },
  {
   "cell_type": "code",
   "execution_count": 6,
   "metadata": {
    "collapsed": true
   },
   "outputs": [],
   "source": [
    "for feature in data1.columns:\n",
    "    unique = data1[feature].unique()\n",
    "    data1[feature] = data1[feature].map(columnToNumber)"
   ]
  },
  {
   "cell_type": "code",
   "execution_count": 7,
   "metadata": {
    "scrolled": true
   },
   "outputs": [
    {
     "data": {
      "text/html": [
       "<div>\n",
       "<style scoped>\n",
       "    .dataframe tbody tr th:only-of-type {\n",
       "        vertical-align: middle;\n",
       "    }\n",
       "\n",
       "    .dataframe tbody tr th {\n",
       "        vertical-align: top;\n",
       "    }\n",
       "\n",
       "    .dataframe thead th {\n",
       "        text-align: right;\n",
       "    }\n",
       "</style>\n",
       "<table border=\"1\" class=\"dataframe\">\n",
       "  <thead>\n",
       "    <tr style=\"text-align: right;\">\n",
       "      <th></th>\n",
       "      <th>age</th>\n",
       "      <th>workclass</th>\n",
       "      <th>education-num</th>\n",
       "      <th>marital-status</th>\n",
       "      <th>occupation</th>\n",
       "      <th>relationship</th>\n",
       "      <th>race</th>\n",
       "      <th>sex</th>\n",
       "      <th>capital-gain</th>\n",
       "      <th>capital-loss</th>\n",
       "      <th>hours-per-week</th>\n",
       "      <th>native-country</th>\n",
       "      <th>target</th>\n",
       "    </tr>\n",
       "  </thead>\n",
       "  <tbody>\n",
       "    <tr>\n",
       "      <th>0</th>\n",
       "      <td>0</td>\n",
       "      <td>0</td>\n",
       "      <td>0</td>\n",
       "      <td>0</td>\n",
       "      <td>0</td>\n",
       "      <td>0</td>\n",
       "      <td>0</td>\n",
       "      <td>0</td>\n",
       "      <td>0</td>\n",
       "      <td>0</td>\n",
       "      <td>0</td>\n",
       "      <td>0</td>\n",
       "      <td>0</td>\n",
       "    </tr>\n",
       "    <tr>\n",
       "      <th>1</th>\n",
       "      <td>1</td>\n",
       "      <td>1</td>\n",
       "      <td>0</td>\n",
       "      <td>1</td>\n",
       "      <td>1</td>\n",
       "      <td>1</td>\n",
       "      <td>0</td>\n",
       "      <td>0</td>\n",
       "      <td>1</td>\n",
       "      <td>0</td>\n",
       "      <td>1</td>\n",
       "      <td>0</td>\n",
       "      <td>0</td>\n",
       "    </tr>\n",
       "    <tr>\n",
       "      <th>2</th>\n",
       "      <td>2</td>\n",
       "      <td>2</td>\n",
       "      <td>1</td>\n",
       "      <td>2</td>\n",
       "      <td>2</td>\n",
       "      <td>0</td>\n",
       "      <td>0</td>\n",
       "      <td>0</td>\n",
       "      <td>1</td>\n",
       "      <td>0</td>\n",
       "      <td>0</td>\n",
       "      <td>0</td>\n",
       "      <td>0</td>\n",
       "    </tr>\n",
       "    <tr>\n",
       "      <th>3</th>\n",
       "      <td>3</td>\n",
       "      <td>2</td>\n",
       "      <td>2</td>\n",
       "      <td>1</td>\n",
       "      <td>2</td>\n",
       "      <td>1</td>\n",
       "      <td>1</td>\n",
       "      <td>0</td>\n",
       "      <td>1</td>\n",
       "      <td>0</td>\n",
       "      <td>0</td>\n",
       "      <td>0</td>\n",
       "      <td>0</td>\n",
       "    </tr>\n",
       "    <tr>\n",
       "      <th>4</th>\n",
       "      <td>4</td>\n",
       "      <td>2</td>\n",
       "      <td>0</td>\n",
       "      <td>1</td>\n",
       "      <td>3</td>\n",
       "      <td>2</td>\n",
       "      <td>1</td>\n",
       "      <td>1</td>\n",
       "      <td>1</td>\n",
       "      <td>0</td>\n",
       "      <td>0</td>\n",
       "      <td>1</td>\n",
       "      <td>0</td>\n",
       "    </tr>\n",
       "  </tbody>\n",
       "</table>\n",
       "</div>"
      ],
      "text/plain": [
       "   age  workclass  education-num  marital-status  occupation  relationship  \\\n",
       "0    0          0              0               0           0             0   \n",
       "1    1          1              0               1           1             1   \n",
       "2    2          2              1               2           2             0   \n",
       "3    3          2              2               1           2             1   \n",
       "4    4          2              0               1           3             2   \n",
       "\n",
       "   race  sex  capital-gain  capital-loss  hours-per-week  native-country  \\\n",
       "0     0    0             0             0               0               0   \n",
       "1     0    0             1             0               1               0   \n",
       "2     0    0             1             0               0               0   \n",
       "3     1    0             1             0               0               0   \n",
       "4     1    1             1             0               0               1   \n",
       "\n",
       "   target  \n",
       "0       0  \n",
       "1       0  \n",
       "2       0  \n",
       "3       0  \n",
       "4       0  "
      ]
     },
     "execution_count": 7,
     "metadata": {},
     "output_type": "execute_result"
    }
   ],
   "source": [
    "data1.head()"
   ]
  },
  {
   "cell_type": "code",
   "execution_count": 8,
   "metadata": {
    "collapsed": true
   },
   "outputs": [],
   "source": [
    "data1.to_csv('datoslimpios.csv', sep=',', encoding='utf-8', index=False, header=False)"
   ]
  },
  {
   "cell_type": "code",
   "execution_count": 9,
   "metadata": {},
   "outputs": [
    {
     "name": "stdout",
     "output_type": "stream",
     "text": [
      "(19536, 12)\n",
      "(19536,)\n",
      "(6513, 12)\n",
      "(6513,)\n",
      "(6512, 12)\n",
      "(6512,)\n"
     ]
    }
   ],
   "source": [
    "X = data1[data1.columns[0:data1.columns.size - 1]]\n",
    "y = data1[\"target\"]\n",
    "X_train, X_test, y_train, y_test = train_test_split(X, y, test_size=0.4, random_state=42)\n",
    "X_val, X_test, y_val, y_test = train_test_split(X_test, y_test, test_size=0.5, random_state=43)\n",
    "\n",
    "print X_train.shape\n",
    "print y_train.shape\n",
    "\n",
    "print X_test.shape\n",
    "print y_test.shape\n",
    "\n",
    "print X_val.shape\n",
    "print y_val.shape"
   ]
  },
  {
   "cell_type": "code",
   "execution_count": 10,
   "metadata": {
    "collapsed": true,
    "scrolled": false
   },
   "outputs": [],
   "source": [
    "X_train.to_csv('xtrain.csv', sep=',', encoding='utf-8', index=False, header=False)\n",
    "y_train.to_csv('ytrain.csv', sep=',', encoding='utf-8', index=False, header=False)\n",
    "\n",
    "X_test.to_csv('xtest.csv', sep=',', encoding='utf-8', index=False, header=False)\n",
    "y_test.to_csv('ytest.csv', sep=',', encoding='utf-8', index=False, header=False)\n",
    "\n",
    "X_val.to_csv('xval.csv', sep=',', encoding='utf-8', index=False, header=False)\n",
    "y_val.to_csv('yval.csv', sep=',', encoding='utf-8', index=False, header=False)"
   ]
  },
  {
   "cell_type": "markdown",
   "metadata": {
    "collapsed": true
   },
   "source": [
    "<h3>Datos agrupados</h3>"
   ]
  },
  {
   "cell_type": "code",
   "execution_count": 28,
   "metadata": {
    "collapsed": true
   },
   "outputs": [],
   "source": [
    "features_names =  [\"age\", \"workclass\", \"fnlwgt\", \"education\", \"education-num\", \"marital-status\", \"occupation\", \"relationship\", \"race\", \"sex\", \"capital-gain\", \"capital-loss\", \"hours-per-week\", \"native-country\"]\n",
    "data1 = pd.read_csv(r\"adult.csv\", header=None, names=features_names + [\"target\"])"
   ]
  },
  {
   "cell_type": "code",
   "execution_count": 29,
   "metadata": {},
   "outputs": [],
   "source": [
    "def continents(country):\n",
    "    country = country[1:len(country)]#eliminamos el primer espacio\n",
    "    \n",
    "    if country in [\"Puerto-Rico\", \"Cuba\", \"Honduras\", \"Jamaica\", \"Mexico\", \"Dominican-Republic\", \"Ecuador\", \"Haiti\",\n",
    "                   \"Guatemala\", \"Nicaragua\", \"El-Salvador\", \"Trinadad&Tobago\", \"Peru\"]: return 0 #South America\n",
    "    if country in [\"Cambodia\", \"India\", \"Japan\", \"China\", \" Iran\", \"Philippines\", \"Vietnam\", \"Laos\", \"Taiwan\",\n",
    "                   \"Thailand\", \"Hong\"]: return 1 #Asia\n",
    "    if country in [\"England\", \" Germany\", \"Greece\", \" Italy\", \"Poland\", \"Portugal\", \"Ireland\", \"France\", \"Hungary\", \n",
    "                   \"Scotland\", \"Yugoslavia\", \"Holand-Netherlands\"]: return 2 #Europa\n",
    "    if country in [\"South\"]: return 3 #Oceania\n",
    "    if country in ['United-States', \"Canada\", \"Outlying-US\", \"Columbia\"]: return 4 #North-America\n",
    "    else : return 4\n",
    "\n",
    "data1.insert(len(data1.columns) - 1, 'native-continent', data1[\"native-country\"].map(continents))"
   ]
  },
  {
   "cell_type": "code",
   "execution_count": 30,
   "metadata": {
    "collapsed": true
   },
   "outputs": [],
   "source": [
    "def targetToNumber(salary):\n",
    "    salary = salary[1:len(salary)]#eliminamos el primer espacio\n",
    "    \n",
    "    if salary == \"<=50K\": return 0\n",
    "    if salary == \">50K\" : return 1\n",
    "    \n",
    "data1[\"target\"] = data1[\"target\"].map(targetToNumber)"
   ]
  },
  {
   "cell_type": "code",
   "execution_count": 31,
   "metadata": {
    "collapsed": true
   },
   "outputs": [],
   "source": [
    "def raceToNumber(race):\n",
    "    race = race[1:len(race)]\n",
    "    \n",
    "    if race == \"White\" : return 0\n",
    "    if race == \"Black\" : return 1\n",
    "    if race == \"Asisn-Pac-Islander\" : return 2\n",
    "    if race == \"Amer-Indian-Eskimo\" : return 3\n",
    "    if race == \"Other\" : return 4\n",
    "    else : return 4\n",
    "\n",
    "data1[\"race\"] = data1[\"race\"].map(raceToNumber)"
   ]
  },
  {
   "cell_type": "code",
   "execution_count": 32,
   "metadata": {
    "collapsed": true
   },
   "outputs": [],
   "source": [
    "def workclassToNumber(occupation):\n",
    "    occupation = occupation[1:len(occupation)]\n",
    "    \n",
    "    if occupation in [\"State-gov\", \"Local-gov\", \"Federal-gov\"] : return 0\n",
    "    if occupation in [\"Without-pay\", \"Never-worked\"] : return 1\n",
    "    if occupation == \"Self-emp-not-inc\" : return 2\n",
    "    if occupation == \"Self-emp-inc\" : return 3\n",
    "    if occupation == \"Private\" : return 4\n",
    "    else : return 0\n",
    "\n",
    "data1[\"workclass\"] = data1[\"workclass\"].map(workclassToNumber)"
   ]
  },
  {
   "cell_type": "code",
   "execution_count": 33,
   "metadata": {},
   "outputs": [],
   "source": [
    "def relationShipToNumber(relationship):\n",
    "    relationship = relationship[1:len(relationship)]\n",
    "    \n",
    "    if relationship in [\"Not-in-family\", \"Unmarried\"] : return 0\n",
    "    if relationship in [\"Husband\", \"Wife\"] : return 1\n",
    "    if relationship == \"Own-child\" : return 2\n",
    "    if relationship == \"Other-relative\" : return 3\n",
    "    else : return 3\n",
    "    \n",
    "data1[\"relationship\"] = data1[\"relationship\"].map(relationShipToNumber)"
   ]
  },
  {
   "cell_type": "code",
   "execution_count": 34,
   "metadata": {
    "collapsed": true
   },
   "outputs": [],
   "source": [
    "def maritalSatusToNumber(maritalstatus):\n",
    "    maritalstatus = maritalstatus[1:len(maritalstatus)]\n",
    "    \n",
    "    if maritalstatus in [\"Never-married\", \"Divorced\", \"Married-spouse-absent\", \"Separated\", \"Widowed\"] : return 0\n",
    "    if maritalstatus in [\"Married-civ-spouse\", \"Married-AF-spouse\"] : return 1\n",
    "    else : return 0\n",
    "    \n",
    "data1[\"marital-status\"] = data1[\"marital-status\"].map(maritalSatusToNumber)"
   ]
  },
  {
   "cell_type": "code",
   "execution_count": 35,
   "metadata": {
    "collapsed": true
   },
   "outputs": [],
   "source": [
    "def sexToNumber(sex):\n",
    "    sex = sex[1:len(sex)]\n",
    "    \n",
    "    if sex == \"Male\" : return 0\n",
    "    if sex == \"Female\" : return 1\n",
    "    else : return 0\n",
    "    \n",
    "data1[\"sex\"] = data1[\"sex\"].map(sexToNumber)"
   ]
  },
  {
   "cell_type": "code",
   "execution_count": 36,
   "metadata": {},
   "outputs": [],
   "source": [
    "def occupationToNumber(occupation):\n",
    "    unique = data1[\"occupation\"].unique()\n",
    "    return np.where(unique == occupation)[0][0]\n",
    "\n",
    "data1[\"occupation\"] = data1[\"occupation\"].map(occupationToNumber)"
   ]
  },
  {
   "cell_type": "code",
   "execution_count": 37,
   "metadata": {
    "collapsed": true
   },
   "outputs": [],
   "source": [
    "del data1[\"fnlwgt\"]#no sirve para clasificar solo son pesos (se usaran despues)\n",
    "del data1[\"native-country\"]#usamos native-continent\n",
    "del data1[\"education\"]\n",
    "data1.head()"
   ]
  },
  {
   "cell_type": "code",
   "execution_count": 38,
   "metadata": {},
   "outputs": [
    {
     "name": "stdout",
     "output_type": "stream",
     "text": [
      "(19536, 12)\n",
      "(19536,)\n",
      "(6513, 12)\n",
      "(6513,)\n",
      "(6512, 12)\n",
      "(6512,)\n"
     ]
    }
   ],
   "source": [
    "X = data1[data1.columns[0:data1.columns.size - 1]]\n",
    "y = data1[\"target\"]\n",
    "X_train, X_test, y_train, y_test = train_test_split(X, y, test_size=0.4, random_state=42)\n",
    "X_val, X_test, y_val, y_test = train_test_split(X_test, y_test, test_size=0.5, random_state=43)\n",
    "\n",
    "print X_train.shape\n",
    "print y_train.shape\n",
    "\n",
    "print X_test.shape\n",
    "print y_test.shape\n",
    "\n",
    "print X_val.shape\n",
    "print y_val.shape"
   ]
  },
  {
   "cell_type": "code",
   "execution_count": 39,
   "metadata": {
    "collapsed": true
   },
   "outputs": [],
   "source": [
    "X_val.to_csv('xval.csv', sep=',', encoding='utf-8', index=False, header=False)\n",
    "y_val.to_csv('yval.csv', sep=',', encoding='utf-8', index=False, header=False)"
   ]
  },
  {
   "cell_type": "code",
   "execution_count": 40,
   "metadata": {},
   "outputs": [
    {
     "data": {
      "text/html": [
       "<div>\n",
       "<style scoped>\n",
       "    .dataframe tbody tr th:only-of-type {\n",
       "        vertical-align: middle;\n",
       "    }\n",
       "\n",
       "    .dataframe tbody tr th {\n",
       "        vertical-align: top;\n",
       "    }\n",
       "\n",
       "    .dataframe thead th {\n",
       "        text-align: right;\n",
       "    }\n",
       "</style>\n",
       "<table border=\"1\" class=\"dataframe\">\n",
       "  <thead>\n",
       "    <tr style=\"text-align: right;\">\n",
       "      <th></th>\n",
       "      <th>age</th>\n",
       "      <th>workclass</th>\n",
       "      <th>education-num</th>\n",
       "      <th>marital-status</th>\n",
       "      <th>occupation</th>\n",
       "      <th>relationship</th>\n",
       "      <th>race</th>\n",
       "      <th>sex</th>\n",
       "      <th>capital-gain</th>\n",
       "      <th>capital-loss</th>\n",
       "      <th>hours-per-week</th>\n",
       "      <th>native-continent</th>\n",
       "      <th>target</th>\n",
       "    </tr>\n",
       "  </thead>\n",
       "  <tbody>\n",
       "    <tr>\n",
       "      <th>0</th>\n",
       "      <td>39</td>\n",
       "      <td>0</td>\n",
       "      <td>13</td>\n",
       "      <td>0</td>\n",
       "      <td>0</td>\n",
       "      <td>0</td>\n",
       "      <td>0</td>\n",
       "      <td>0</td>\n",
       "      <td>2174</td>\n",
       "      <td>0</td>\n",
       "      <td>40</td>\n",
       "      <td>4</td>\n",
       "      <td>0</td>\n",
       "    </tr>\n",
       "    <tr>\n",
       "      <th>1</th>\n",
       "      <td>50</td>\n",
       "      <td>2</td>\n",
       "      <td>13</td>\n",
       "      <td>1</td>\n",
       "      <td>1</td>\n",
       "      <td>1</td>\n",
       "      <td>0</td>\n",
       "      <td>0</td>\n",
       "      <td>0</td>\n",
       "      <td>0</td>\n",
       "      <td>13</td>\n",
       "      <td>4</td>\n",
       "      <td>0</td>\n",
       "    </tr>\n",
       "    <tr>\n",
       "      <th>2</th>\n",
       "      <td>38</td>\n",
       "      <td>4</td>\n",
       "      <td>9</td>\n",
       "      <td>0</td>\n",
       "      <td>2</td>\n",
       "      <td>0</td>\n",
       "      <td>0</td>\n",
       "      <td>0</td>\n",
       "      <td>0</td>\n",
       "      <td>0</td>\n",
       "      <td>40</td>\n",
       "      <td>4</td>\n",
       "      <td>0</td>\n",
       "    </tr>\n",
       "    <tr>\n",
       "      <th>3</th>\n",
       "      <td>53</td>\n",
       "      <td>4</td>\n",
       "      <td>7</td>\n",
       "      <td>1</td>\n",
       "      <td>2</td>\n",
       "      <td>1</td>\n",
       "      <td>1</td>\n",
       "      <td>0</td>\n",
       "      <td>0</td>\n",
       "      <td>0</td>\n",
       "      <td>40</td>\n",
       "      <td>4</td>\n",
       "      <td>0</td>\n",
       "    </tr>\n",
       "    <tr>\n",
       "      <th>4</th>\n",
       "      <td>28</td>\n",
       "      <td>4</td>\n",
       "      <td>13</td>\n",
       "      <td>1</td>\n",
       "      <td>3</td>\n",
       "      <td>1</td>\n",
       "      <td>1</td>\n",
       "      <td>1</td>\n",
       "      <td>0</td>\n",
       "      <td>0</td>\n",
       "      <td>40</td>\n",
       "      <td>0</td>\n",
       "      <td>0</td>\n",
       "    </tr>\n",
       "  </tbody>\n",
       "</table>\n",
       "</div>"
      ],
      "text/plain": [
       "   age  workclass  education-num  marital-status  occupation  relationship  \\\n",
       "0   39          0             13               0           0             0   \n",
       "1   50          2             13               1           1             1   \n",
       "2   38          4              9               0           2             0   \n",
       "3   53          4              7               1           2             1   \n",
       "4   28          4             13               1           3             1   \n",
       "\n",
       "   race  sex  capital-gain  capital-loss  hours-per-week  native-continent  \\\n",
       "0     0    0          2174             0              40                 4   \n",
       "1     0    0             0             0              13                 4   \n",
       "2     0    0             0             0              40                 4   \n",
       "3     1    0             0             0              40                 4   \n",
       "4     1    1             0             0              40                 0   \n",
       "\n",
       "   target  \n",
       "0       0  \n",
       "1       0  \n",
       "2       0  \n",
       "3       0  \n",
       "4       0  "
      ]
     },
     "execution_count": 40,
     "metadata": {},
     "output_type": "execute_result"
    }
   ],
   "source": [
    "data1.head()\n"
   ]
  }
 ],
 "metadata": {
  "kernelspec": {
   "display_name": "Python 2",
   "language": "python",
   "name": "python2"
  },
  "language_info": {
   "codemirror_mode": {
    "name": "ipython",
    "version": 2
   },
   "file_extension": ".py",
   "mimetype": "text/x-python",
   "name": "python",
   "nbconvert_exporter": "python",
   "pygments_lexer": "ipython2",
   "version": "2.7.12"
  }
 },
 "nbformat": 4,
 "nbformat_minor": 2
}
